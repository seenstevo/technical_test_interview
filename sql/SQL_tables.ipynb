{
 "cells": [
  {
   "cell_type": "code",
   "execution_count": 38,
   "metadata": {},
   "outputs": [],
   "source": [
    "import pandas as pd"
   ]
  },
  {
   "cell_type": "code",
   "execution_count": 39,
   "metadata": {},
   "outputs": [],
   "source": [
    "tweets = pd.read_csv('../raw_data/TheBridge_Tech_Tweets.csv')"
   ]
  },
  {
   "cell_type": "code",
   "execution_count": 40,
   "metadata": {},
   "outputs": [
    {
     "data": {
      "text/html": [
       "<div>\n",
       "<style scoped>\n",
       "    .dataframe tbody tr th:only-of-type {\n",
       "        vertical-align: middle;\n",
       "    }\n",
       "\n",
       "    .dataframe tbody tr th {\n",
       "        vertical-align: top;\n",
       "    }\n",
       "\n",
       "    .dataframe thead th {\n",
       "        text-align: right;\n",
       "    }\n",
       "</style>\n",
       "<table border=\"1\" class=\"dataframe\">\n",
       "  <thead>\n",
       "    <tr style=\"text-align: right;\">\n",
       "      <th></th>\n",
       "      <th>tweet_id</th>\n",
       "      <th>tweet_text</th>\n",
       "      <th>tweet_date</th>\n",
       "      <th>user_id</th>\n",
       "      <th>user_name</th>\n",
       "      <th>user_username</th>\n",
       "      <th>tweet_retweet</th>\n",
       "      <th>tweet_reply</th>\n",
       "      <th>tweet_like</th>\n",
       "      <th>tweet_quote</th>\n",
       "    </tr>\n",
       "  </thead>\n",
       "  <tbody>\n",
       "    <tr>\n",
       "      <th>0</th>\n",
       "      <td>1611338908196913153</td>\n",
       "      <td>Gracias a nuestros amigos @TheBridge_Tech por ...</td>\n",
       "      <td>2023-01-06 12:28:27+00:00</td>\n",
       "      <td>1530194743786881024</td>\n",
       "      <td>Bitcoin Tuesday</td>\n",
       "      <td>BitcoinTuesday_</td>\n",
       "      <td>0</td>\n",
       "      <td>0</td>\n",
       "      <td>2</td>\n",
       "      <td>0</td>\n",
       "    </tr>\n",
       "    <tr>\n",
       "      <th>1</th>\n",
       "      <td>1610652818234347521</td>\n",
       "      <td>¿Te interesa el diseño de #producto digital? V...</td>\n",
       "      <td>2023-01-04 15:02:11+00:00</td>\n",
       "      <td>10279282</td>\n",
       "      <td>Jesús Pérez Serna</td>\n",
       "      <td>mkpositivo</td>\n",
       "      <td>2</td>\n",
       "      <td>0</td>\n",
       "      <td>3</td>\n",
       "      <td>0</td>\n",
       "    </tr>\n",
       "    <tr>\n",
       "      <th>2</th>\n",
       "      <td>1610606391445815297</td>\n",
       "      <td>¡Empezamos el año con una #masterclass de #uxu...</td>\n",
       "      <td>2023-01-04 11:57:41+00:00</td>\n",
       "      <td>2402179123</td>\n",
       "      <td>Jorge González Revilla</td>\n",
       "      <td>jorgegrev</td>\n",
       "      <td>2</td>\n",
       "      <td>0</td>\n",
       "      <td>3</td>\n",
       "      <td>0</td>\n",
       "    </tr>\n",
       "    <tr>\n",
       "      <th>3</th>\n",
       "      <td>1610581093119365121</td>\n",
       "      <td>¿Te planteas un futuro como diseñador #uxui?🎨\\...</td>\n",
       "      <td>2023-01-04 10:17:10+00:00</td>\n",
       "      <td>1162694149956603904</td>\n",
       "      <td>The Bridge</td>\n",
       "      <td>TheBridge_Tech</td>\n",
       "      <td>3</td>\n",
       "      <td>0</td>\n",
       "      <td>4</td>\n",
       "      <td>0</td>\n",
       "    </tr>\n",
       "    <tr>\n",
       "      <th>4</th>\n",
       "      <td>1610236180309868544</td>\n",
       "      <td>Echa un👀a la historia de Verónica, alumni del ...</td>\n",
       "      <td>2023-01-03 11:26:36+00:00</td>\n",
       "      <td>1162694149956603904</td>\n",
       "      <td>The Bridge</td>\n",
       "      <td>TheBridge_Tech</td>\n",
       "      <td>1</td>\n",
       "      <td>0</td>\n",
       "      <td>2</td>\n",
       "      <td>0</td>\n",
       "    </tr>\n",
       "  </tbody>\n",
       "</table>\n",
       "</div>"
      ],
      "text/plain": [
       "              tweet_id                                         tweet_text  \\\n",
       "0  1611338908196913153  Gracias a nuestros amigos @TheBridge_Tech por ...   \n",
       "1  1610652818234347521  ¿Te interesa el diseño de #producto digital? V...   \n",
       "2  1610606391445815297  ¡Empezamos el año con una #masterclass de #uxu...   \n",
       "3  1610581093119365121  ¿Te planteas un futuro como diseñador #uxui?🎨\\...   \n",
       "4  1610236180309868544  Echa un👀a la historia de Verónica, alumni del ...   \n",
       "\n",
       "                  tweet_date              user_id               user_name  \\\n",
       "0  2023-01-06 12:28:27+00:00  1530194743786881024         Bitcoin Tuesday   \n",
       "1  2023-01-04 15:02:11+00:00             10279282       Jesús Pérez Serna   \n",
       "2  2023-01-04 11:57:41+00:00           2402179123  Jorge González Revilla   \n",
       "3  2023-01-04 10:17:10+00:00  1162694149956603904              The Bridge   \n",
       "4  2023-01-03 11:26:36+00:00  1162694149956603904              The Bridge   \n",
       "\n",
       "     user_username  tweet_retweet  tweet_reply  tweet_like  tweet_quote  \n",
       "0  BitcoinTuesday_              0            0           2            0  \n",
       "1       mkpositivo              2            0           3            0  \n",
       "2        jorgegrev              2            0           3            0  \n",
       "3   TheBridge_Tech              3            0           4            0  \n",
       "4   TheBridge_Tech              1            0           2            0  "
      ]
     },
     "execution_count": 40,
     "metadata": {},
     "output_type": "execute_result"
    }
   ],
   "source": [
    "tweets.head()"
   ]
  },
  {
   "cell_type": "code",
   "execution_count": 41,
   "metadata": {},
   "outputs": [
    {
     "data": {
      "text/plain": [
       "175"
      ]
     },
     "execution_count": 41,
     "metadata": {},
     "output_type": "execute_result"
    }
   ],
   "source": [
    "len(tweets['tweet_id'].unique())"
   ]
  },
  {
   "cell_type": "code",
   "execution_count": 42,
   "metadata": {},
   "outputs": [],
   "source": [
    "tweets_sql = tweets.drop(columns = ['user_name', 'user_username']).reset_index(drop = True)"
   ]
  },
  {
   "cell_type": "code",
   "execution_count": 43,
   "metadata": {},
   "outputs": [
    {
     "name": "stdout",
     "output_type": "stream",
     "text": [
      "<class 'pandas.core.frame.DataFrame'>\n",
      "RangeIndex: 175 entries, 0 to 174\n",
      "Data columns (total 8 columns):\n",
      " #   Column         Non-Null Count  Dtype \n",
      "---  ------         --------------  ----- \n",
      " 0   tweet_id       175 non-null    int64 \n",
      " 1   tweet_text     175 non-null    object\n",
      " 2   tweet_date     175 non-null    object\n",
      " 3   user_id        175 non-null    int64 \n",
      " 4   tweet_retweet  175 non-null    int64 \n",
      " 5   tweet_reply    175 non-null    int64 \n",
      " 6   tweet_like     175 non-null    int64 \n",
      " 7   tweet_quote    175 non-null    int64 \n",
      "dtypes: int64(6), object(2)\n",
      "memory usage: 11.1+ KB\n"
     ]
    }
   ],
   "source": [
    "tweets_sql.info()"
   ]
  },
  {
   "cell_type": "code",
   "execution_count": 44,
   "metadata": {},
   "outputs": [],
   "source": [
    "tweets_sql.to_csv('tweets_sql.csv')"
   ]
  },
  {
   "cell_type": "code",
   "execution_count": 45,
   "metadata": {},
   "outputs": [],
   "source": [
    "users_sql = tweets[['user_id', 'user_name', 'user_username']].drop_duplicates().reset_index(drop = True)"
   ]
  },
  {
   "cell_type": "code",
   "execution_count": 46,
   "metadata": {},
   "outputs": [
    {
     "name": "stdout",
     "output_type": "stream",
     "text": [
      "<class 'pandas.core.frame.DataFrame'>\n",
      "RangeIndex: 57 entries, 0 to 56\n",
      "Data columns (total 3 columns):\n",
      " #   Column         Non-Null Count  Dtype \n",
      "---  ------         --------------  ----- \n",
      " 0   user_id        57 non-null     int64 \n",
      " 1   user_name      57 non-null     object\n",
      " 2   user_username  57 non-null     object\n",
      "dtypes: int64(1), object(2)\n",
      "memory usage: 1.5+ KB\n"
     ]
    }
   ],
   "source": [
    "users_sql.info()"
   ]
  },
  {
   "cell_type": "code",
   "execution_count": 47,
   "metadata": {},
   "outputs": [],
   "source": [
    "users_sql.to_csv('users_sql.csv')"
   ]
  }
 ],
 "metadata": {
  "kernelspec": {
   "display_name": "twitter2",
   "language": "python",
   "name": "python3"
  },
  "language_info": {
   "codemirror_mode": {
    "name": "ipython",
    "version": 3
   },
   "file_extension": ".py",
   "mimetype": "text/x-python",
   "name": "python",
   "nbconvert_exporter": "python",
   "pygments_lexer": "ipython3",
   "version": "3.9.16"
  },
  "orig_nbformat": 4
 },
 "nbformat": 4,
 "nbformat_minor": 2
}
