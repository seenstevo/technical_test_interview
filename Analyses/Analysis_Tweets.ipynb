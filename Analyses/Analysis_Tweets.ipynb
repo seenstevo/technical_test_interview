{
 "cells": [
  {
   "cell_type": "code",
   "execution_count": 1,
   "metadata": {},
   "outputs": [],
   "source": [
    "import pandas as pd\n",
    "import numpy as np\n",
    "import matplotlib.pyplot as plt\n",
    "import seaborn as sns"
   ]
  },
  {
   "cell_type": "code",
   "execution_count": 2,
   "metadata": {},
   "outputs": [],
   "source": [
    "sns.set_style(\"whitegrid\")"
   ]
  },
  {
   "cell_type": "code",
   "execution_count": 3,
   "metadata": {},
   "outputs": [],
   "source": [
    "tweets = pd.read_csv('../raw_data/TheBridge_Tech_Tweets.csv')"
   ]
  },
  {
   "cell_type": "code",
   "execution_count": 4,
   "metadata": {},
   "outputs": [],
   "source": [
    "tweets['tweet_date'] = pd.to_datetime(pd.to_datetime(tweets['tweet_date']).dt.date)"
   ]
  },
  {
   "cell_type": "code",
   "execution_count": 5,
   "metadata": {},
   "outputs": [],
   "source": [
    "tweets['month'] = tweets['tweet_date'].dt.strftime('%b')"
   ]
  },
  {
   "cell_type": "code",
   "execution_count": 6,
   "metadata": {},
   "outputs": [],
   "source": [
    "tweets['tweet_event'] = True"
   ]
  },
  {
   "cell_type": "code",
   "execution_count": 7,
   "metadata": {},
   "outputs": [
    {
     "data": {
      "text/html": [
       "<div>\n",
       "<style scoped>\n",
       "    .dataframe tbody tr th:only-of-type {\n",
       "        vertical-align: middle;\n",
       "    }\n",
       "\n",
       "    .dataframe tbody tr th {\n",
       "        vertical-align: top;\n",
       "    }\n",
       "\n",
       "    .dataframe thead th {\n",
       "        text-align: right;\n",
       "    }\n",
       "</style>\n",
       "<table border=\"1\" class=\"dataframe\">\n",
       "  <thead>\n",
       "    <tr style=\"text-align: right;\">\n",
       "      <th></th>\n",
       "      <th>tweet_id</th>\n",
       "      <th>tweet_text</th>\n",
       "      <th>tweet_date</th>\n",
       "      <th>user_id</th>\n",
       "      <th>user_name</th>\n",
       "      <th>user_username</th>\n",
       "      <th>tweet_retweet</th>\n",
       "      <th>tweet_reply</th>\n",
       "      <th>tweet_like</th>\n",
       "      <th>tweet_quote</th>\n",
       "      <th>month</th>\n",
       "      <th>tweet_event</th>\n",
       "    </tr>\n",
       "  </thead>\n",
       "  <tbody>\n",
       "    <tr>\n",
       "      <th>0</th>\n",
       "      <td>1611338908196913153</td>\n",
       "      <td>Gracias a nuestros amigos @TheBridge_Tech por ...</td>\n",
       "      <td>2023-01-06</td>\n",
       "      <td>1530194743786881024</td>\n",
       "      <td>Bitcoin Tuesday</td>\n",
       "      <td>BitcoinTuesday_</td>\n",
       "      <td>0</td>\n",
       "      <td>0</td>\n",
       "      <td>2</td>\n",
       "      <td>0</td>\n",
       "      <td>Jan</td>\n",
       "      <td>True</td>\n",
       "    </tr>\n",
       "    <tr>\n",
       "      <th>1</th>\n",
       "      <td>1610652818234347521</td>\n",
       "      <td>¿Te interesa el diseño de #producto digital? V...</td>\n",
       "      <td>2023-01-04</td>\n",
       "      <td>10279282</td>\n",
       "      <td>Jesús Pérez Serna</td>\n",
       "      <td>mkpositivo</td>\n",
       "      <td>2</td>\n",
       "      <td>0</td>\n",
       "      <td>3</td>\n",
       "      <td>0</td>\n",
       "      <td>Jan</td>\n",
       "      <td>True</td>\n",
       "    </tr>\n",
       "    <tr>\n",
       "      <th>2</th>\n",
       "      <td>1610606391445815297</td>\n",
       "      <td>¡Empezamos el año con una #masterclass de #uxu...</td>\n",
       "      <td>2023-01-04</td>\n",
       "      <td>2402179123</td>\n",
       "      <td>Jorge González Revilla</td>\n",
       "      <td>jorgegrev</td>\n",
       "      <td>2</td>\n",
       "      <td>0</td>\n",
       "      <td>3</td>\n",
       "      <td>0</td>\n",
       "      <td>Jan</td>\n",
       "      <td>True</td>\n",
       "    </tr>\n",
       "    <tr>\n",
       "      <th>3</th>\n",
       "      <td>1610581093119365121</td>\n",
       "      <td>¿Te planteas un futuro como diseñador #uxui?🎨\\...</td>\n",
       "      <td>2023-01-04</td>\n",
       "      <td>1162694149956603904</td>\n",
       "      <td>The Bridge</td>\n",
       "      <td>TheBridge_Tech</td>\n",
       "      <td>3</td>\n",
       "      <td>0</td>\n",
       "      <td>4</td>\n",
       "      <td>0</td>\n",
       "      <td>Jan</td>\n",
       "      <td>True</td>\n",
       "    </tr>\n",
       "    <tr>\n",
       "      <th>4</th>\n",
       "      <td>1610236180309868544</td>\n",
       "      <td>Echa un👀a la historia de Verónica, alumni del ...</td>\n",
       "      <td>2023-01-03</td>\n",
       "      <td>1162694149956603904</td>\n",
       "      <td>The Bridge</td>\n",
       "      <td>TheBridge_Tech</td>\n",
       "      <td>1</td>\n",
       "      <td>0</td>\n",
       "      <td>2</td>\n",
       "      <td>0</td>\n",
       "      <td>Jan</td>\n",
       "      <td>True</td>\n",
       "    </tr>\n",
       "  </tbody>\n",
       "</table>\n",
       "</div>"
      ],
      "text/plain": [
       "              tweet_id                                         tweet_text  \\\n",
       "0  1611338908196913153  Gracias a nuestros amigos @TheBridge_Tech por ...   \n",
       "1  1610652818234347521  ¿Te interesa el diseño de #producto digital? V...   \n",
       "2  1610606391445815297  ¡Empezamos el año con una #masterclass de #uxu...   \n",
       "3  1610581093119365121  ¿Te planteas un futuro como diseñador #uxui?🎨\\...   \n",
       "4  1610236180309868544  Echa un👀a la historia de Verónica, alumni del ...   \n",
       "\n",
       "  tweet_date              user_id               user_name    user_username  \\\n",
       "0 2023-01-06  1530194743786881024         Bitcoin Tuesday  BitcoinTuesday_   \n",
       "1 2023-01-04             10279282       Jesús Pérez Serna       mkpositivo   \n",
       "2 2023-01-04           2402179123  Jorge González Revilla        jorgegrev   \n",
       "3 2023-01-04  1162694149956603904              The Bridge   TheBridge_Tech   \n",
       "4 2023-01-03  1162694149956603904              The Bridge   TheBridge_Tech   \n",
       "\n",
       "   tweet_retweet  tweet_reply  tweet_like  tweet_quote month  tweet_event  \n",
       "0              0            0           2            0   Jan         True  \n",
       "1              2            0           3            0   Jan         True  \n",
       "2              2            0           3            0   Jan         True  \n",
       "3              3            0           4            0   Jan         True  \n",
       "4              1            0           2            0   Jan         True  "
      ]
     },
     "execution_count": 7,
     "metadata": {},
     "output_type": "execute_result"
    }
   ],
   "source": [
    "tweets.head()"
   ]
  },
  {
   "cell_type": "code",
   "execution_count": 8,
   "metadata": {},
   "outputs": [
    {
     "name": "stdout",
     "output_type": "stream",
     "text": [
      "<class 'pandas.core.frame.DataFrame'>\n",
      "RangeIndex: 175 entries, 0 to 174\n",
      "Data columns (total 12 columns):\n",
      " #   Column         Non-Null Count  Dtype         \n",
      "---  ------         --------------  -----         \n",
      " 0   tweet_id       175 non-null    int64         \n",
      " 1   tweet_text     175 non-null    object        \n",
      " 2   tweet_date     175 non-null    datetime64[ns]\n",
      " 3   user_id        175 non-null    int64         \n",
      " 4   user_name      175 non-null    object        \n",
      " 5   user_username  175 non-null    object        \n",
      " 6   tweet_retweet  175 non-null    int64         \n",
      " 7   tweet_reply    175 non-null    int64         \n",
      " 8   tweet_like     175 non-null    int64         \n",
      " 9   tweet_quote    175 non-null    int64         \n",
      " 10  month          175 non-null    object        \n",
      " 11  tweet_event    175 non-null    bool          \n",
      "dtypes: bool(1), datetime64[ns](1), int64(6), object(4)\n",
      "memory usage: 15.3+ KB\n"
     ]
    }
   ],
   "source": [
    "tweets.info()"
   ]
  },
  {
   "cell_type": "code",
   "execution_count": 9,
   "metadata": {},
   "outputs": [],
   "source": [
    "tweets = tweets.sort_values(by = 'tweet_date')"
   ]
  },
  {
   "attachments": {},
   "cell_type": "markdown",
   "metadata": {},
   "source": [
    "# Here will explore a few buisiness questions relating to the tweets using the @TheBridge_Tech handle"
   ]
  },
  {
   "attachments": {},
   "cell_type": "markdown",
   "metadata": {},
   "source": [
    "### Which tweet had the largest social impact?"
   ]
  },
  {
   "cell_type": "code",
   "execution_count": 10,
   "metadata": {},
   "outputs": [],
   "source": [
    "tweets['Total_Social_Impact'] = tweets[['tweet_retweet', 'tweet_reply', 'tweet_like', 'tweet_quote']].sum(axis = 1)"
   ]
  },
  {
   "cell_type": "code",
   "execution_count": 11,
   "metadata": {},
   "outputs": [],
   "source": [
    "high_impact_tweets = tweets.sort_values(by = 'Total_Social_Impact', ascending = False)[:5][['user_username', 'tweet_retweet', 'tweet_reply', 'tweet_like', 'tweet_quote']]"
   ]
  },
  {
   "cell_type": "code",
   "execution_count": 12,
   "metadata": {},
   "outputs": [
    {
     "data": {
      "text/html": [
       "<div>\n",
       "<style scoped>\n",
       "    .dataframe tbody tr th:only-of-type {\n",
       "        vertical-align: middle;\n",
       "    }\n",
       "\n",
       "    .dataframe tbody tr th {\n",
       "        vertical-align: top;\n",
       "    }\n",
       "\n",
       "    .dataframe thead th {\n",
       "        text-align: right;\n",
       "    }\n",
       "</style>\n",
       "<table border=\"1\" class=\"dataframe\">\n",
       "  <thead>\n",
       "    <tr style=\"text-align: right;\">\n",
       "      <th></th>\n",
       "      <th>user_username</th>\n",
       "      <th>tweet_retweet</th>\n",
       "      <th>tweet_reply</th>\n",
       "      <th>tweet_like</th>\n",
       "      <th>tweet_quote</th>\n",
       "    </tr>\n",
       "  </thead>\n",
       "  <tbody>\n",
       "    <tr>\n",
       "      <th>160</th>\n",
       "      <td>nodosenlared</td>\n",
       "      <td>49</td>\n",
       "      <td>7</td>\n",
       "      <td>321</td>\n",
       "      <td>4</td>\n",
       "    </tr>\n",
       "    <tr>\n",
       "      <th>153</th>\n",
       "      <td>Recuenco</td>\n",
       "      <td>5</td>\n",
       "      <td>2</td>\n",
       "      <td>35</td>\n",
       "      <td>1</td>\n",
       "    </tr>\n",
       "    <tr>\n",
       "      <th>85</th>\n",
       "      <td>decentralized_b</td>\n",
       "      <td>11</td>\n",
       "      <td>2</td>\n",
       "      <td>21</td>\n",
       "      <td>1</td>\n",
       "    </tr>\n",
       "    <tr>\n",
       "      <th>159</th>\n",
       "      <td>nodosenlared</td>\n",
       "      <td>5</td>\n",
       "      <td>1</td>\n",
       "      <td>10</td>\n",
       "      <td>0</td>\n",
       "    </tr>\n",
       "    <tr>\n",
       "      <th>91</th>\n",
       "      <td>42UrdulizFTef</td>\n",
       "      <td>5</td>\n",
       "      <td>1</td>\n",
       "      <td>10</td>\n",
       "      <td>0</td>\n",
       "    </tr>\n",
       "  </tbody>\n",
       "</table>\n",
       "</div>"
      ],
      "text/plain": [
       "       user_username  tweet_retweet  tweet_reply  tweet_like  tweet_quote\n",
       "160     nodosenlared             49            7         321            4\n",
       "153         Recuenco              5            2          35            1\n",
       "85   decentralized_b             11            2          21            1\n",
       "159     nodosenlared              5            1          10            0\n",
       "91     42UrdulizFTef              5            1          10            0"
      ]
     },
     "execution_count": 12,
     "metadata": {},
     "output_type": "execute_result"
    }
   ],
   "source": [
    "high_impact_tweets"
   ]
  },
  {
   "cell_type": "code",
   "execution_count": 13,
   "metadata": {},
   "outputs": [
    {
     "data": {
      "image/png": "[encoded data removed]",
      "text/plain": [
       "<Figure size 640x480 with 1 Axes>"
      ]
     },
     "metadata": {},
     "output_type": "display_data"
    }
   ],
   "source": [
    "high_impact_tweets.plot(kind = 'bar', x = 'user_username')\n",
    "plt.xticks(rotation = 45)\n",
    "plt.xlabel(\"Tweet Username\")\n",
    "plt.ylabel(\"Frequency\");"
   ]
  },
  {
   "cell_type": "code",
   "execution_count": 35,
   "metadata": {},
   "outputs": [
    {
     "data": {
      "text/html": [
       "<div>\n",
       "<style scoped>\n",
       "    .dataframe tbody tr th:only-of-type {\n",
       "        vertical-align: middle;\n",
       "    }\n",
       "\n",
       "    .dataframe tbody tr th {\n",
       "        vertical-align: top;\n",
       "    }\n",
       "\n",
       "    .dataframe thead th {\n",
       "        text-align: right;\n",
       "    }\n",
       "</style>\n",
       "<table border=\"1\" class=\"dataframe\">\n",
       "  <thead>\n",
       "    <tr style=\"text-align: right;\">\n",
       "      <th></th>\n",
       "      <th>tweet_id</th>\n",
       "      <th>tweet_text</th>\n",
       "      <th>tweet_date</th>\n",
       "      <th>user_id</th>\n",
       "      <th>user_name</th>\n",
       "      <th>user_username</th>\n",
       "      <th>tweet_retweet</th>\n",
       "      <th>tweet_reply</th>\n",
       "      <th>tweet_like</th>\n",
       "      <th>tweet_quote</th>\n",
       "      <th>month</th>\n",
       "      <th>tweet_event</th>\n",
       "      <th>Total_Social_Impact</th>\n",
       "      <th>month_num</th>\n",
       "    </tr>\n",
       "  </thead>\n",
       "  <tbody>\n",
       "    <tr>\n",
       "      <th>160</th>\n",
       "      <td>1614612463361695747</td>\n",
       "      <td>Advanced #Cynefin, Estuarine mapping &amp;amp; EUF...</td>\n",
       "      <td>2023-01-15</td>\n",
       "      <td>41545659</td>\n",
       "      <td>Mario Lopez de Avila</td>\n",
       "      <td>nodosenlared</td>\n",
       "      <td>49</td>\n",
       "      <td>7</td>\n",
       "      <td>321</td>\n",
       "      <td>4</td>\n",
       "      <td>Jan</td>\n",
       "      <td>True</td>\n",
       "      <td>381</td>\n",
       "      <td>3</td>\n",
       "    </tr>\n",
       "  </tbody>\n",
       "</table>\n",
       "</div>"
      ],
      "text/plain": [
       "                tweet_id                                         tweet_text  \\\n",
       "160  1614612463361695747  Advanced #Cynefin, Estuarine mapping &amp; EUF...   \n",
       "\n",
       "    tweet_date   user_id             user_name user_username  tweet_retweet  \\\n",
       "160 2023-01-15  41545659  Mario Lopez de Avila  nodosenlared             49   \n",
       "\n",
       "     tweet_reply  tweet_like  tweet_quote month  tweet_event  \\\n",
       "160            7         321            4   Jan         True   \n",
       "\n",
       "     Total_Social_Impact  month_num  \n",
       "160                  381          3  "
      ]
     },
     "execution_count": 35,
     "metadata": {},
     "output_type": "execute_result"
    }
   ],
   "source": [
    "tweets.sort_values(by = 'tweet_like', ascending = False).head(1)"
   ]
  },
  {
   "cell_type": "code",
   "execution_count": 34,
   "metadata": {},
   "outputs": [
    {
     "data": {
      "text/plain": [
       "array(['Advanced #Cynefin, Estuarine mapping &amp; EUFG Masterclass (Madrid) https://t.co/H5ZSjbKHAr | Los interesados en la aplicación de las ciencias de la complejidad en nuestro país tendremos la oportunidad de aprender de @snowded en persona el 16/3/23 en la sede de @TheBridge_Tech https://t.co/LavCfgYIht'],\n",
       "      dtype=object)"
      ]
     },
     "execution_count": 34,
     "metadata": {},
     "output_type": "execute_result"
    }
   ],
   "source": [
    "tweets.sort_values(by = 'tweet_like', ascending = False).head(1)['tweet_text'].values"
   ]
  },
  {
   "attachments": {},
   "cell_type": "markdown",
   "metadata": {},
   "source": [
    "#### The tweet by nodosenlared, on 15th Jan had by far the greatest social impact recieving >300 likes and 49 retweets. The tweet with the second highest social impact only managed 5 retweets"
   ]
  },
  {
   "attachments": {},
   "cell_type": "markdown",
   "metadata": {},
   "source": [
    "## Which user mentioned the school the most?"
   ]
  },
  {
   "cell_type": "code",
   "execution_count": 14,
   "metadata": {},
   "outputs": [
    {
     "data": {
      "image/png": "[encoded data removed]",
      "text/plain": [
       "<Figure size 640x480 with 1 Axes>"
      ]
     },
     "metadata": {},
     "output_type": "display_data"
    }
   ],
   "source": [
    "sns.histplot(tweets['user_username'].value_counts(), kde = True)\n",
    "plt.title(\"Distribution of the total Tweets per User in Period\");"
   ]
  },
  {
   "attachments": {},
   "cell_type": "markdown",
   "metadata": {},
   "source": [
    "#### The majority of the tweets come from users that only tweeted once mentioning The Bridge. There are only 4 users who tweeted more than 4 times, which we will analyze"
   ]
  },
  {
   "cell_type": "code",
   "execution_count": 15,
   "metadata": {},
   "outputs": [],
   "source": [
    "top_mentions = tweets['user_username'].value_counts()[tweets['user_username'].value_counts() > 4]"
   ]
  },
  {
   "cell_type": "code",
   "execution_count": 16,
   "metadata": {},
   "outputs": [],
   "source": [
    "top_mentions = tweets[tweets['user_username'].isin(top_mentions.index)].sort_values(by = 'tweet_date')"
   ]
  },
  {
   "cell_type": "code",
   "execution_count": 17,
   "metadata": {},
   "outputs": [
    {
     "data": {
      "text/html": [
       "<div>\n",
       "<style scoped>\n",
       "    .dataframe tbody tr th:only-of-type {\n",
       "        vertical-align: middle;\n",
       "    }\n",
       "\n",
       "    .dataframe tbody tr th {\n",
       "        vertical-align: top;\n",
       "    }\n",
       "\n",
       "    .dataframe thead th {\n",
       "        text-align: right;\n",
       "    }\n",
       "</style>\n",
       "<table border=\"1\" class=\"dataframe\">\n",
       "  <thead>\n",
       "    <tr style=\"text-align: right;\">\n",
       "      <th></th>\n",
       "      <th>tweet_id</th>\n",
       "      <th>tweet_text</th>\n",
       "      <th>tweet_date</th>\n",
       "      <th>user_id</th>\n",
       "      <th>user_name</th>\n",
       "      <th>user_username</th>\n",
       "      <th>tweet_retweet</th>\n",
       "      <th>tweet_reply</th>\n",
       "      <th>tweet_like</th>\n",
       "      <th>tweet_quote</th>\n",
       "      <th>month</th>\n",
       "      <th>tweet_event</th>\n",
       "      <th>Total_Social_Impact</th>\n",
       "    </tr>\n",
       "  </thead>\n",
       "  <tbody>\n",
       "    <tr>\n",
       "      <th>72</th>\n",
       "      <td>1594964278238654471</td>\n",
       "      <td>Aprende hoy las profesiones del futuro, ¡inscr...</td>\n",
       "      <td>2022-11-22</td>\n",
       "      <td>702077405045899264</td>\n",
       "      <td>Fundación BBK | Obra Social</td>\n",
       "      <td>BBK_eus</td>\n",
       "      <td>2</td>\n",
       "      <td>0</td>\n",
       "      <td>2</td>\n",
       "      <td>0</td>\n",
       "      <td>Nov</td>\n",
       "      <td>True</td>\n",
       "      <td>4</td>\n",
       "    </tr>\n",
       "    <tr>\n",
       "      <th>69</th>\n",
       "      <td>1594975696614526979</td>\n",
       "      <td>@HoplaSoftware Deseando teneros @HoplaSoftware...</td>\n",
       "      <td>2022-11-22</td>\n",
       "      <td>1162694149956603904</td>\n",
       "      <td>The Bridge</td>\n",
       "      <td>TheBridge_Tech</td>\n",
       "      <td>0</td>\n",
       "      <td>0</td>\n",
       "      <td>1</td>\n",
       "      <td>0</td>\n",
       "      <td>Nov</td>\n",
       "      <td>True</td>\n",
       "      <td>1</td>\n",
       "    </tr>\n",
       "    <tr>\n",
       "      <th>71</th>\n",
       "      <td>1594965197613322241</td>\n",
       "      <td>Ikasi gaur etorkizuneko lanbideak, izena eman ...</td>\n",
       "      <td>2022-11-22</td>\n",
       "      <td>702077405045899264</td>\n",
       "      <td>Fundación BBK | Obra Social</td>\n",
       "      <td>BBK_eus</td>\n",
       "      <td>1</td>\n",
       "      <td>0</td>\n",
       "      <td>2</td>\n",
       "      <td>0</td>\n",
       "      <td>Nov</td>\n",
       "      <td>True</td>\n",
       "      <td>3</td>\n",
       "    </tr>\n",
       "    <tr>\n",
       "      <th>68</th>\n",
       "      <td>1595359906747617280</td>\n",
       "      <td>¡Ven a conocer los BBK bootcamps powered by @T...</td>\n",
       "      <td>2022-11-23</td>\n",
       "      <td>1162694149956603904</td>\n",
       "      <td>The Bridge</td>\n",
       "      <td>TheBridge_Tech</td>\n",
       "      <td>4</td>\n",
       "      <td>0</td>\n",
       "      <td>3</td>\n",
       "      <td>0</td>\n",
       "      <td>Nov</td>\n",
       "      <td>True</td>\n",
       "      <td>7</td>\n",
       "    </tr>\n",
       "    <tr>\n",
       "      <th>65</th>\n",
       "      <td>1597233215789355009</td>\n",
       "      <td>Álvaro quería reorientar su carrera hacia el #...</td>\n",
       "      <td>2022-11-28</td>\n",
       "      <td>1162694149956603904</td>\n",
       "      <td>The Bridge</td>\n",
       "      <td>TheBridge_Tech</td>\n",
       "      <td>1</td>\n",
       "      <td>0</td>\n",
       "      <td>1</td>\n",
       "      <td>0</td>\n",
       "      <td>Nov</td>\n",
       "      <td>True</td>\n",
       "      <td>2</td>\n",
       "    </tr>\n",
       "  </tbody>\n",
       "</table>\n",
       "</div>"
      ],
      "text/plain": [
       "               tweet_id                                         tweet_text  \\\n",
       "72  1594964278238654471  Aprende hoy las profesiones del futuro, ¡inscr...   \n",
       "69  1594975696614526979  @HoplaSoftware Deseando teneros @HoplaSoftware...   \n",
       "71  1594965197613322241  Ikasi gaur etorkizuneko lanbideak, izena eman ...   \n",
       "68  1595359906747617280  ¡Ven a conocer los BBK bootcamps powered by @T...   \n",
       "65  1597233215789355009  Álvaro quería reorientar su carrera hacia el #...   \n",
       "\n",
       "   tweet_date              user_id                    user_name  \\\n",
       "72 2022-11-22   702077405045899264  Fundación BBK | Obra Social   \n",
       "69 2022-11-22  1162694149956603904                   The Bridge   \n",
       "71 2022-11-22   702077405045899264  Fundación BBK | Obra Social   \n",
       "68 2022-11-23  1162694149956603904                   The Bridge   \n",
       "65 2022-11-28  1162694149956603904                   The Bridge   \n",
       "\n",
       "     user_username  tweet_retweet  tweet_reply  tweet_like  tweet_quote month  \\\n",
       "72         BBK_eus              2            0           2            0   Nov   \n",
       "69  TheBridge_Tech              0            0           1            0   Nov   \n",
       "71         BBK_eus              1            0           2            0   Nov   \n",
       "68  TheBridge_Tech              4            0           3            0   Nov   \n",
       "65  TheBridge_Tech              1            0           1            0   Nov   \n",
       "\n",
       "    tweet_event  Total_Social_Impact  \n",
       "72         True                    4  \n",
       "69         True                    1  \n",
       "71         True                    3  \n",
       "68         True                    7  \n",
       "65         True                    2  "
      ]
     },
     "execution_count": 17,
     "metadata": {},
     "output_type": "execute_result"
    }
   ],
   "source": [
    "top_mentions.head()"
   ]
  },
  {
   "cell_type": "code",
   "execution_count": 18,
   "metadata": {},
   "outputs": [],
   "source": [
    "top_mentions['CumSum'] = top_mentions.groupby(['user_username'], as_index = False)[['tweet_event']].cumsum()"
   ]
  },
  {
   "cell_type": "code",
   "execution_count": 19,
   "metadata": {},
   "outputs": [],
   "source": [
    "to_plot_top_mentions = top_mentions[['user_name', 'tweet_date', 'CumSum']]"
   ]
  },
  {
   "cell_type": "code",
   "execution_count": 20,
   "metadata": {},
   "outputs": [
    {
     "data": {
      "image/png": "[encoded data removed]",
      "text/plain": [
       "<Figure size 640x480 with 1 Axes>"
      ]
     },
     "metadata": {},
     "output_type": "display_data"
    }
   ],
   "source": [
    "sns.lineplot(data = to_plot_top_mentions, x = 'tweet_date', y = 'CumSum', hue = 'user_name')\n",
    "plt.xticks(rotation = 45);"
   ]
  },
  {
   "attachments": {},
   "cell_type": "markdown",
   "metadata": {},
   "source": [
    "#### So The Bridge mentions itself the most with consistent tweets across the time period of interest. Two other users mention The Bridge in two very distinct paterns with the Fundación BBK | Obra Social tweeting heavily on one day, during an event they were involved in while Jorge González Revilla tweeted over a much longer period, but less times in total."
   ]
  },
  {
   "cell_type": "code",
   "execution_count": 21,
   "metadata": {},
   "outputs": [
    {
     "data": {
      "image/png": "[encoded data removed]",
      "text/plain": [
       "<Figure size 640x480 with 1 Axes>"
      ]
     },
     "metadata": {},
     "output_type": "display_data"
    }
   ],
   "source": [
    "tweets[tweets['user_username'] == 'BBK_eus'].sort_values(by = 'tweet_date').groupby('tweet_date')['user_name'].count().plot(kind = 'bar')\n",
    "plt.xticks(rotation = 45, ha = 'right')\n",
    "plt.ylabel('Frequency Per Day');"
   ]
  },
  {
   "attachments": {},
   "cell_type": "markdown",
   "metadata": {},
   "source": [
    "## In which month were the tweets most heavily concentrated?"
   ]
  },
  {
   "cell_type": "code",
   "execution_count": 22,
   "metadata": {},
   "outputs": [],
   "source": [
    "month_dict = {'Jan': 3, 'Feb': 4, 'Mar': 5, 'Apr': 6, 'May': 7, 'Jun': 8, 'Jul': 9, 'Aug': 10, 'Sep': 11, 'Oct': 12, 'Nov': 1, 'Dec': 2}"
   ]
  },
  {
   "cell_type": "code",
   "execution_count": 23,
   "metadata": {},
   "outputs": [],
   "source": [
    "tweets['month_num'] = tweets['month'].map(month_dict)"
   ]
  },
  {
   "cell_type": "code",
   "execution_count": 47,
   "metadata": {},
   "outputs": [
    {
     "data": {
      "image/png": "[encoded data removed]",
      "text/plain": [
       "<Figure size 640x480 with 1 Axes>"
      ]
     },
     "metadata": {},
     "output_type": "display_data"
    }
   ],
   "source": [
    "tweets.groupby('month_num', as_index = False)['tweet_event'].count().sort_values(by = 'month_num').plot(kind = 'bar', x = 'month_num', legend = False)\n",
    "plt.xticks(rotation = 45, ha = 'right', ticks = [0, 1, 2, 3, 4], labels = ['Nov', 'Dec', 'Jan', 'Feb', 'Mar'])\n",
    "plt.ylabel(\"Frequency of Tweets\")\n",
    "plt.title(\"Total Tweets by Month\");"
   ]
  },
  {
   "cell_type": "code",
   "execution_count": 51,
   "metadata": {},
   "outputs": [
    {
     "data": {
      "text/html": [
       "<div>\n",
       "<style scoped>\n",
       "    .dataframe tbody tr th:only-of-type {\n",
       "        vertical-align: middle;\n",
       "    }\n",
       "\n",
       "    .dataframe tbody tr th {\n",
       "        vertical-align: top;\n",
       "    }\n",
       "\n",
       "    .dataframe thead th {\n",
       "        text-align: right;\n",
       "    }\n",
       "</style>\n",
       "<table border=\"1\" class=\"dataframe\">\n",
       "  <thead>\n",
       "    <tr style=\"text-align: right;\">\n",
       "      <th></th>\n",
       "      <th>tweet_id</th>\n",
       "      <th>tweet_text</th>\n",
       "      <th>tweet_date</th>\n",
       "      <th>user_id</th>\n",
       "      <th>user_name</th>\n",
       "      <th>user_username</th>\n",
       "      <th>tweet_retweet</th>\n",
       "      <th>tweet_reply</th>\n",
       "      <th>tweet_like</th>\n",
       "      <th>tweet_quote</th>\n",
       "      <th>month</th>\n",
       "      <th>tweet_event</th>\n",
       "      <th>Total_Social_Impact</th>\n",
       "      <th>month_num</th>\n",
       "    </tr>\n",
       "  </thead>\n",
       "  <tbody>\n",
       "    <tr>\n",
       "      <th>141</th>\n",
       "      <td>1615824135321526278</td>\n",
       "      <td>@Recuenco @Godivaciones @ae_bm @TheBridge_Tech...</td>\n",
       "      <td>2023-01-18</td>\n",
       "      <td>866742930</td>\n",
       "      <td>Víctor 📖🐁</td>\n",
       "      <td>nudpiedo</td>\n",
       "      <td>0</td>\n",
       "      <td>2</td>\n",
       "      <td>3</td>\n",
       "      <td>0</td>\n",
       "      <td>Jan</td>\n",
       "      <td>True</td>\n",
       "      <td>5</td>\n",
       "      <td>3</td>\n",
       "    </tr>\n",
       "    <tr>\n",
       "      <th>142</th>\n",
       "      <td>1615809886566363136</td>\n",
       "      <td>@Godivaciones @ae_bm @TheBridge_Tech @ddamasd ...</td>\n",
       "      <td>2023-01-18</td>\n",
       "      <td>7154412</td>\n",
       "      <td>Javier G. Recuenco</td>\n",
       "      <td>Recuenco</td>\n",
       "      <td>0</td>\n",
       "      <td>1</td>\n",
       "      <td>2</td>\n",
       "      <td>0</td>\n",
       "      <td>Jan</td>\n",
       "      <td>True</td>\n",
       "      <td>3</td>\n",
       "      <td>3</td>\n",
       "    </tr>\n",
       "    <tr>\n",
       "      <th>143</th>\n",
       "      <td>1615807528398426126</td>\n",
       "      <td>@Recuenco @ae_bm @TheBridge_Tech @ddamasd Una ...</td>\n",
       "      <td>2023-01-18</td>\n",
       "      <td>17287251</td>\n",
       "      <td>María Blanco #Putin Иди домой.</td>\n",
       "      <td>Godivaciones</td>\n",
       "      <td>0</td>\n",
       "      <td>2</td>\n",
       "      <td>3</td>\n",
       "      <td>0</td>\n",
       "      <td>Jan</td>\n",
       "      <td>True</td>\n",
       "      <td>5</td>\n",
       "      <td>3</td>\n",
       "    </tr>\n",
       "    <tr>\n",
       "      <th>144</th>\n",
       "      <td>1615804903854641156</td>\n",
       "      <td>@Recuenco @ae_bm @TheBridge_Tech @ddamasd ✌️</td>\n",
       "      <td>2023-01-18</td>\n",
       "      <td>17287251</td>\n",
       "      <td>María Blanco #Putin Иди домой.</td>\n",
       "      <td>Godivaciones</td>\n",
       "      <td>0</td>\n",
       "      <td>0</td>\n",
       "      <td>1</td>\n",
       "      <td>0</td>\n",
       "      <td>Jan</td>\n",
       "      <td>True</td>\n",
       "      <td>1</td>\n",
       "      <td>3</td>\n",
       "    </tr>\n",
       "    <tr>\n",
       "      <th>145</th>\n",
       "      <td>1615803069970714637</td>\n",
       "      <td>@ae_bm @Godivaciones @TheBridge_Tech @ddamasd ...</td>\n",
       "      <td>2023-01-18</td>\n",
       "      <td>7154412</td>\n",
       "      <td>Javier G. Recuenco</td>\n",
       "      <td>Recuenco</td>\n",
       "      <td>0</td>\n",
       "      <td>2</td>\n",
       "      <td>1</td>\n",
       "      <td>0</td>\n",
       "      <td>Jan</td>\n",
       "      <td>True</td>\n",
       "      <td>3</td>\n",
       "      <td>3</td>\n",
       "    </tr>\n",
       "    <tr>\n",
       "      <th>146</th>\n",
       "      <td>1615792007909199872</td>\n",
       "      <td>@Godivaciones @Recuenco @TheBridge_Tech @ddama...</td>\n",
       "      <td>2023-01-18</td>\n",
       "      <td>141272779</td>\n",
       "      <td>aebm</td>\n",
       "      <td>ae_bm</td>\n",
       "      <td>0</td>\n",
       "      <td>1</td>\n",
       "      <td>2</td>\n",
       "      <td>0</td>\n",
       "      <td>Jan</td>\n",
       "      <td>True</td>\n",
       "      <td>3</td>\n",
       "      <td>3</td>\n",
       "    </tr>\n",
       "    <tr>\n",
       "      <th>140</th>\n",
       "      <td>1615827851596505095</td>\n",
       "      <td>@nudpiedo @Godivaciones @ae_bm @TheBridge_Tech...</td>\n",
       "      <td>2023-01-18</td>\n",
       "      <td>7154412</td>\n",
       "      <td>Javier G. Recuenco</td>\n",
       "      <td>Recuenco</td>\n",
       "      <td>1</td>\n",
       "      <td>0</td>\n",
       "      <td>4</td>\n",
       "      <td>0</td>\n",
       "      <td>Jan</td>\n",
       "      <td>True</td>\n",
       "      <td>5</td>\n",
       "      <td>3</td>\n",
       "    </tr>\n",
       "    <tr>\n",
       "      <th>148</th>\n",
       "      <td>1615786531943235599</td>\n",
       "      <td>@Godivaciones @Recuenco @TheBridge_Tech @ddama...</td>\n",
       "      <td>2023-01-18</td>\n",
       "      <td>417307513</td>\n",
       "      <td>Popmart</td>\n",
       "      <td>Popmart_u2</td>\n",
       "      <td>0</td>\n",
       "      <td>0</td>\n",
       "      <td>2</td>\n",
       "      <td>0</td>\n",
       "      <td>Jan</td>\n",
       "      <td>True</td>\n",
       "      <td>2</td>\n",
       "      <td>3</td>\n",
       "    </tr>\n",
       "    <tr>\n",
       "      <th>155</th>\n",
       "      <td>1615630477360267264</td>\n",
       "      <td>Si te mola el #código y no sabes por dónde emp...</td>\n",
       "      <td>2023-01-18</td>\n",
       "      <td>1162694149956603904</td>\n",
       "      <td>The Bridge</td>\n",
       "      <td>TheBridge_Tech</td>\n",
       "      <td>1</td>\n",
       "      <td>0</td>\n",
       "      <td>0</td>\n",
       "      <td>0</td>\n",
       "      <td>Jan</td>\n",
       "      <td>True</td>\n",
       "      <td>1</td>\n",
       "      <td>3</td>\n",
       "    </tr>\n",
       "    <tr>\n",
       "      <th>154</th>\n",
       "      <td>1615758687330791424</td>\n",
       "      <td>@TheBridge_Tech Hola, estoy intentando entrar ...</td>\n",
       "      <td>2023-01-18</td>\n",
       "      <td>1232105203</td>\n",
       "      <td>Adrián Méndez</td>\n",
       "      <td>adriskou</td>\n",
       "      <td>0</td>\n",
       "      <td>0</td>\n",
       "      <td>0</td>\n",
       "      <td>0</td>\n",
       "      <td>Jan</td>\n",
       "      <td>True</td>\n",
       "      <td>0</td>\n",
       "      <td>3</td>\n",
       "    </tr>\n",
       "    <tr>\n",
       "      <th>153</th>\n",
       "      <td>1615772633773256706</td>\n",
       "      <td>En plena meet-up de CPS en @TheBridge_Tech con...</td>\n",
       "      <td>2023-01-18</td>\n",
       "      <td>7154412</td>\n",
       "      <td>Javier G. Recuenco</td>\n",
       "      <td>Recuenco</td>\n",
       "      <td>5</td>\n",
       "      <td>2</td>\n",
       "      <td>35</td>\n",
       "      <td>1</td>\n",
       "      <td>Jan</td>\n",
       "      <td>True</td>\n",
       "      <td>43</td>\n",
       "      <td>3</td>\n",
       "    </tr>\n",
       "    <tr>\n",
       "      <th>147</th>\n",
       "      <td>1615790291578929185</td>\n",
       "      <td>@ae_bm @Recuenco @TheBridge_Tech @ddamasd Ya. ...</td>\n",
       "      <td>2023-01-18</td>\n",
       "      <td>17287251</td>\n",
       "      <td>María Blanco #Putin Иди домой.</td>\n",
       "      <td>Godivaciones</td>\n",
       "      <td>0</td>\n",
       "      <td>1</td>\n",
       "      <td>2</td>\n",
       "      <td>0</td>\n",
       "      <td>Jan</td>\n",
       "      <td>True</td>\n",
       "      <td>3</td>\n",
       "      <td>3</td>\n",
       "    </tr>\n",
       "    <tr>\n",
       "      <th>151</th>\n",
       "      <td>1615776913410392065</td>\n",
       "      <td>Mira las rectas en el techo de las fotos de @m...</td>\n",
       "      <td>2023-01-18</td>\n",
       "      <td>212364786</td>\n",
       "      <td>Gonzalo Osés</td>\n",
       "      <td>designetworking</td>\n",
       "      <td>0</td>\n",
       "      <td>0</td>\n",
       "      <td>2</td>\n",
       "      <td>0</td>\n",
       "      <td>Jan</td>\n",
       "      <td>True</td>\n",
       "      <td>2</td>\n",
       "      <td>3</td>\n",
       "    </tr>\n",
       "    <tr>\n",
       "      <th>150</th>\n",
       "      <td>1615783265872510976</td>\n",
       "      <td>@Recuenco @TheBridge_Tech @ddamasd Es tu maste...</td>\n",
       "      <td>2023-01-18</td>\n",
       "      <td>17287251</td>\n",
       "      <td>María Blanco #Putin Иди домой.</td>\n",
       "      <td>Godivaciones</td>\n",
       "      <td>0</td>\n",
       "      <td>2</td>\n",
       "      <td>1</td>\n",
       "      <td>0</td>\n",
       "      <td>Jan</td>\n",
       "      <td>True</td>\n",
       "      <td>3</td>\n",
       "      <td>3</td>\n",
       "    </tr>\n",
       "    <tr>\n",
       "      <th>149</th>\n",
       "      <td>1615785967180201995</td>\n",
       "      <td>@Godivaciones @Recuenco @TheBridge_Tech @ddama...</td>\n",
       "      <td>2023-01-18</td>\n",
       "      <td>141272779</td>\n",
       "      <td>aebm</td>\n",
       "      <td>ae_bm</td>\n",
       "      <td>0</td>\n",
       "      <td>1</td>\n",
       "      <td>1</td>\n",
       "      <td>0</td>\n",
       "      <td>Jan</td>\n",
       "      <td>True</td>\n",
       "      <td>2</td>\n",
       "      <td>3</td>\n",
       "    </tr>\n",
       "    <tr>\n",
       "      <th>152</th>\n",
       "      <td>1615774789850775558</td>\n",
       "      <td>@Recuenco @TheBridge_Tech @ddamasd Qué suerte !!</td>\n",
       "      <td>2023-01-18</td>\n",
       "      <td>1610073819791728640</td>\n",
       "      <td>J</td>\n",
       "      <td>jnlpz22</td>\n",
       "      <td>0</td>\n",
       "      <td>0</td>\n",
       "      <td>2</td>\n",
       "      <td>0</td>\n",
       "      <td>Jan</td>\n",
       "      <td>True</td>\n",
       "      <td>2</td>\n",
       "      <td>3</td>\n",
       "    </tr>\n",
       "  </tbody>\n",
       "</table>\n",
       "</div>"
      ],
      "text/plain": [
       "                tweet_id                                         tweet_text  \\\n",
       "141  1615824135321526278  @Recuenco @Godivaciones @ae_bm @TheBridge_Tech...   \n",
       "142  1615809886566363136  @Godivaciones @ae_bm @TheBridge_Tech @ddamasd ...   \n",
       "143  1615807528398426126  @Recuenco @ae_bm @TheBridge_Tech @ddamasd Una ...   \n",
       "144  1615804903854641156       @Recuenco @ae_bm @TheBridge_Tech @ddamasd ✌️   \n",
       "145  1615803069970714637  @ae_bm @Godivaciones @TheBridge_Tech @ddamasd ...   \n",
       "146  1615792007909199872  @Godivaciones @Recuenco @TheBridge_Tech @ddama...   \n",
       "140  1615827851596505095  @nudpiedo @Godivaciones @ae_bm @TheBridge_Tech...   \n",
       "148  1615786531943235599  @Godivaciones @Recuenco @TheBridge_Tech @ddama...   \n",
       "155  1615630477360267264  Si te mola el #código y no sabes por dónde emp...   \n",
       "154  1615758687330791424  @TheBridge_Tech Hola, estoy intentando entrar ...   \n",
       "153  1615772633773256706  En plena meet-up de CPS en @TheBridge_Tech con...   \n",
       "147  1615790291578929185  @ae_bm @Recuenco @TheBridge_Tech @ddamasd Ya. ...   \n",
       "151  1615776913410392065  Mira las rectas en el techo de las fotos de @m...   \n",
       "150  1615783265872510976  @Recuenco @TheBridge_Tech @ddamasd Es tu maste...   \n",
       "149  1615785967180201995  @Godivaciones @Recuenco @TheBridge_Tech @ddama...   \n",
       "152  1615774789850775558   @Recuenco @TheBridge_Tech @ddamasd Qué suerte !!   \n",
       "\n",
       "    tweet_date              user_id                       user_name  \\\n",
       "141 2023-01-18            866742930                       Víctor 📖🐁   \n",
       "142 2023-01-18              7154412              Javier G. Recuenco   \n",
       "143 2023-01-18             17287251  María Blanco #Putin Иди домой.   \n",
       "144 2023-01-18             17287251  María Blanco #Putin Иди домой.   \n",
       "145 2023-01-18              7154412              Javier G. Recuenco   \n",
       "146 2023-01-18            141272779                            aebm   \n",
       "140 2023-01-18              7154412              Javier G. Recuenco   \n",
       "148 2023-01-18            417307513                         Popmart   \n",
       "155 2023-01-18  1162694149956603904                      The Bridge   \n",
       "154 2023-01-18           1232105203                   Adrián Méndez   \n",
       "153 2023-01-18              7154412              Javier G. Recuenco   \n",
       "147 2023-01-18             17287251  María Blanco #Putin Иди домой.   \n",
       "151 2023-01-18            212364786                    Gonzalo Osés   \n",
       "150 2023-01-18             17287251  María Blanco #Putin Иди домой.   \n",
       "149 2023-01-18            141272779                            aebm   \n",
       "152 2023-01-18  1610073819791728640                               J   \n",
       "\n",
       "       user_username  tweet_retweet  tweet_reply  tweet_like  tweet_quote  \\\n",
       "141         nudpiedo              0            2           3            0   \n",
       "142         Recuenco              0            1           2            0   \n",
       "143     Godivaciones              0            2           3            0   \n",
       "144     Godivaciones              0            0           1            0   \n",
       "145         Recuenco              0            2           1            0   \n",
       "146            ae_bm              0            1           2            0   \n",
       "140         Recuenco              1            0           4            0   \n",
       "148       Popmart_u2              0            0           2            0   \n",
       "155   TheBridge_Tech              1            0           0            0   \n",
       "154         adriskou              0            0           0            0   \n",
       "153         Recuenco              5            2          35            1   \n",
       "147     Godivaciones              0            1           2            0   \n",
       "151  designetworking              0            0           2            0   \n",
       "150     Godivaciones              0            2           1            0   \n",
       "149            ae_bm              0            1           1            0   \n",
       "152          jnlpz22              0            0           2            0   \n",
       "\n",
       "    month  tweet_event  Total_Social_Impact  month_num  \n",
       "141   Jan         True                    5          3  \n",
       "142   Jan         True                    3          3  \n",
       "143   Jan         True                    5          3  \n",
       "144   Jan         True                    1          3  \n",
       "145   Jan         True                    3          3  \n",
       "146   Jan         True                    3          3  \n",
       "140   Jan         True                    5          3  \n",
       "148   Jan         True                    2          3  \n",
       "155   Jan         True                    1          3  \n",
       "154   Jan         True                    0          3  \n",
       "153   Jan         True                   43          3  \n",
       "147   Jan         True                    3          3  \n",
       "151   Jan         True                    2          3  \n",
       "150   Jan         True                    3          3  \n",
       "149   Jan         True                    2          3  \n",
       "152   Jan         True                    2          3  "
      ]
     },
     "execution_count": 51,
     "metadata": {},
     "output_type": "execute_result"
    }
   ],
   "source": [
    "tweets[tweets['tweet_date'] == '2023-01-18']"
   ]
  },
  {
   "cell_type": "code",
   "execution_count": 46,
   "metadata": {},
   "outputs": [
    {
     "data": {
      "image/png": "[encoded data removed]",
      "text/plain": [
       "<Figure size 640x480 with 1 Axes>"
      ]
     },
     "metadata": {},
     "output_type": "display_data"
    }
   ],
   "source": [
    "tweets[tweets['month'] == 'Jan'].groupby('tweet_date', as_index = False)['tweet_event'].sum().plot(x = 'tweet_date', legend = False)\n",
    "plt.title(\"Daily Tweets in Jan '23\")\n",
    "plt.ylabel(\"Frequency\");"
   ]
  },
  {
   "attachments": {},
   "cell_type": "markdown",
   "metadata": {},
   "source": [
    "## Which words are most frequent?"
   ]
  },
  {
   "cell_type": "code",
   "execution_count": 25,
   "metadata": {},
   "outputs": [],
   "source": [
    "all_tweets = [tweet.split() for tweet in tweets['tweet_text'].values]"
   ]
  },
  {
   "cell_type": "code",
   "execution_count": 26,
   "metadata": {},
   "outputs": [],
   "source": [
    "from nltk.corpus import stopwords\n",
    "spanish_stop_words = stopwords.words('spanish')"
   ]
  },
  {
   "cell_type": "code",
   "execution_count": 27,
   "metadata": {},
   "outputs": [],
   "source": [
    "count_dict = {}\n",
    "\n",
    "for tweet in all_tweets:\n",
    "    for word in tweet:\n",
    "        #if word not in spanish_stop_words:\n",
    "            if word in count_dict:\n",
    "                count_dict[word] += 1\n",
    "            else:\n",
    "                count_dict[word] = 1"
   ]
  },
  {
   "cell_type": "code",
   "execution_count": 28,
   "metadata": {},
   "outputs": [
    {
     "data": {
      "text/html": [
       "<div>\n",
       "<style scoped>\n",
       "    .dataframe tbody tr th:only-of-type {\n",
       "        vertical-align: middle;\n",
       "    }\n",
       "\n",
       "    .dataframe tbody tr th {\n",
       "        vertical-align: top;\n",
       "    }\n",
       "\n",
       "    .dataframe thead th {\n",
       "        text-align: right;\n",
       "    }\n",
       "</style>\n",
       "<table border=\"1\" class=\"dataframe\">\n",
       "  <thead>\n",
       "    <tr style=\"text-align: right;\">\n",
       "      <th></th>\n",
       "      <th>word</th>\n",
       "      <th>freq</th>\n",
       "    </tr>\n",
       "  </thead>\n",
       "  <tbody>\n",
       "    <tr>\n",
       "      <th>27</th>\n",
       "      <td>de</td>\n",
       "      <td>269</td>\n",
       "    </tr>\n",
       "    <tr>\n",
       "      <th>7</th>\n",
       "      <td>en</td>\n",
       "      <td>150</td>\n",
       "    </tr>\n",
       "    <tr>\n",
       "      <th>14</th>\n",
       "      <td>@TheBridge_Tech</td>\n",
       "      <td>118</td>\n",
       "    </tr>\n",
       "    <tr>\n",
       "      <th>25</th>\n",
       "      <td>y</td>\n",
       "      <td>107</td>\n",
       "    </tr>\n",
       "    <tr>\n",
       "      <th>130</th>\n",
       "      <td>la</td>\n",
       "      <td>105</td>\n",
       "    </tr>\n",
       "    <tr>\n",
       "      <th>8</th>\n",
       "      <td>el</td>\n",
       "      <td>95</td>\n",
       "    </tr>\n",
       "    <tr>\n",
       "      <th>80</th>\n",
       "      <td>a</td>\n",
       "      <td>93</td>\n",
       "    </tr>\n",
       "    <tr>\n",
       "      <th>13</th>\n",
       "      <td>con</td>\n",
       "      <td>60</td>\n",
       "    </tr>\n",
       "    <tr>\n",
       "      <th>503</th>\n",
       "      <td>que</td>\n",
       "      <td>47</td>\n",
       "    </tr>\n",
       "    <tr>\n",
       "      <th>2</th>\n",
       "      <td>las</td>\n",
       "      <td>45</td>\n",
       "    </tr>\n",
       "  </tbody>\n",
       "</table>\n",
       "</div>"
      ],
      "text/plain": [
       "                word  freq\n",
       "27                de   269\n",
       "7                 en   150\n",
       "14   @TheBridge_Tech   118\n",
       "25                 y   107\n",
       "130               la   105\n",
       "8                 el    95\n",
       "80                 a    93\n",
       "13               con    60\n",
       "503              que    47\n",
       "2                las    45"
      ]
     },
     "execution_count": 28,
     "metadata": {},
     "output_type": "execute_result"
    }
   ],
   "source": [
    "pd.DataFrame(count_dict.items(), columns = ['word', 'freq']).sort_values(by = 'freq', ascending = False).head(10)"
   ]
  },
  {
   "attachments": {},
   "cell_type": "markdown",
   "metadata": {},
   "source": [
    "## What correlations are there between the public metrics (retweets, replies, quotes and likes)?"
   ]
  },
  {
   "cell_type": "code",
   "execution_count": 29,
   "metadata": {},
   "outputs": [
    {
     "data": {
      "image/png": "[encoded data removed]",
      "text/plain": [
       "<Figure size 640x480 with 2 Axes>"
      ]
     },
     "metadata": {},
     "output_type": "display_data"
    }
   ],
   "source": [
    "sns.heatmap(tweets[['tweet_retweet', 'tweet_reply', 'tweet_quote', 'tweet_like']].corr(), \n",
    "            annot = True, cmap = 'PiYG');"
   ]
  },
  {
   "attachments": {},
   "cell_type": "markdown",
   "metadata": {},
   "source": [
    "#### We see that in general likes and retweets are very highly correlated while tweet reply and tweet quote show the lowest, but still relatively high, correlation"
   ]
  },
  {
   "attachments": {},
   "cell_type": "markdown",
   "metadata": {},
   "source": [
    "## Extra Insights?"
   ]
  },
  {
   "attachments": {},
   "cell_type": "markdown",
   "metadata": {},
   "source": [
    "throw in some extra things here"
   ]
  }
 ],
 "metadata": {
  "kernelspec": {
   "display_name": "twitter2",
   "language": "python",
   "name": "python3"
  },
  "language_info": {
   "codemirror_mode": {
    "name": "ipython",
    "version": 3
   },
   "file_extension": ".py",
   "mimetype": "text/x-python",
   "name": "python",
   "nbconvert_exporter": "python",
   "pygments_lexer": "ipython3",
   "version": "3.9.16"
  },
  "orig_nbformat": 4
 },
 "nbformat": 4,
 "nbformat_minor": 2
}
